{
 "cells": [
  {
   "cell_type": "code",
   "execution_count": null,
   "metadata": {},
   "outputs": [],
   "source": [
    "Find the Smallest common number\n",
    "“Given three integer arrays sorted in ascending order, return the smallest number that is common in all three arrays. Return -1 if there is no common number.”\n",
    "\n",
    "Array 1 \n",
    "[ -21 ,1, 5 , 19, 55 , 89 ]\n",
    "\n",
    "Array 2\n",
    "[ 0 , 1 , 2, 10, 76, 91 ]\n",
    "\n",
    "Array 3\n",
    "[ -10 , -1 , 1 , 10]"
   ]
  },
  {
   "cell_type": "code",
   "execution_count": 11,
   "metadata": {},
   "outputs": [
    {
     "name": "stdout",
     "output_type": "stream",
     "text": [
      "[2]\n"
     ]
    }
   ],
   "source": [
    "\n",
    "def sorted_common(arr1,arr2,arr3):\n",
    "    common_numbers=set(arr1).intersection(arr2).intersection(arr3)\n",
    "    if not common_numbers:\n",
    "        return [-1]\n",
    "    sorted_common=sorted(common_numbers)\n",
    "    return sorted_common\n",
    "# arr1=[ -21 ,1, 5 , 19, 55 , 89 ]\n",
    "# arr2=[ 0 , 1 , 2, 10, 76, 91 ]\n",
    "# arr3=[ -10 , -1 , 1 , 10]\n",
    "arr1=[ 1 ,2, 3 , 4, 5 , 6 ]\n",
    "arr2=[ 2,6 , 7 , 8, 9, 10, 11 ]\n",
    "arr3=[ 2 , 2222 ]\n",
    "\n",
    "res=sorted_common(arr1,arr2,arr3)\n",
    "print(res)"
   ]
  },
  {
   "cell_type": "code",
   "execution_count": null,
   "metadata": {},
   "outputs": [],
   "source": []
  },
  {
   "cell_type": "code",
   "execution_count": null,
   "metadata": {},
   "outputs": [],
   "source": []
  },
  {
   "cell_type": "code",
   "execution_count": null,
   "metadata": {},
   "outputs": [],
   "source": []
  },
  {
   "cell_type": "code",
   "execution_count": null,
   "metadata": {},
   "outputs": [],
   "source": []
  },
  {
   "cell_type": "code",
   "execution_count": null,
   "metadata": {},
   "outputs": [],
   "source": []
  },
  {
   "cell_type": "code",
   "execution_count": null,
   "metadata": {},
   "outputs": [],
   "source": []
  }
 ],
 "metadata": {
  "kernelspec": {
   "display_name": "google",
   "language": "python",
   "name": "python3"
  },
  "language_info": {
   "codemirror_mode": {
    "name": "ipython",
    "version": 3
   },
   "file_extension": ".py",
   "mimetype": "text/x-python",
   "name": "python",
   "nbconvert_exporter": "python",
   "pygments_lexer": "ipython3",
   "version": "3.10.13"
  }
 },
 "nbformat": 4,
 "nbformat_minor": 2
}
